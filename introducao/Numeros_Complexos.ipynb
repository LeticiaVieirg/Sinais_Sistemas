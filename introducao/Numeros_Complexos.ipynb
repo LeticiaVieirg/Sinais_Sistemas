{
  "nbformat": 4,
  "nbformat_minor": 0,
  "metadata": {
    "colab": {
      "provenance": [],
      "authorship_tag": "ABX9TyPIDa5Q7TU640SWBQfof9xD",
      "include_colab_link": true
    },
    "kernelspec": {
      "name": "python3",
      "display_name": "Python 3"
    },
    "language_info": {
      "name": "python"
    }
  },
  "cells": [
    {
      "cell_type": "markdown",
      "metadata": {
        "id": "view-in-github",
        "colab_type": "text"
      },
      "source": [
        "<a href=\"https://colab.research.google.com/github/LeticiaVieirg/Sinais_Sistemas/blob/main/Numeros_Complexos.ipynb\" target=\"_parent\"><img src=\"https://colab.research.google.com/assets/colab-badge.svg\" alt=\"Open In Colab\"/></a>"
      ]
    },
    {
      "cell_type": "markdown",
      "source": [
        "Numeros Complexos"
      ],
      "metadata": {
        "id": "LO-SQGSjNnTd"
      }
    },
    {
      "cell_type": "code",
      "execution_count": null,
      "metadata": {
        "id": "GGeAF34JLwlw"
      },
      "outputs": [],
      "source": [
        "import numpy as np"
      ]
    },
    {
      "cell_type": "code",
      "source": [
        "z1=2+1j*3\n",
        "print(z1)"
      ],
      "metadata": {
        "colab": {
          "base_uri": "https://localhost:8080/"
        },
        "id": "X7Wqy0HnL5mB",
        "outputId": "007e10f9-b03b-47dc-cae8-6dbbf33d4c83"
      },
      "execution_count": null,
      "outputs": [
        {
          "output_type": "stream",
          "name": "stdout",
          "text": [
            "(2+3j)\n"
          ]
        }
      ]
    },
    {
      "cell_type": "code",
      "source": [
        "r=np.sqrt(np.real(z1)**2 + np.imag(z1)**2)\n",
        "print(r)"
      ],
      "metadata": {
        "colab": {
          "base_uri": "https://localhost:8080/"
        },
        "id": "n8Ijzxk8MMmz",
        "outputId": "d1c75acc-5ee3-43a6-dea2-72614d54346a"
      },
      "execution_count": null,
      "outputs": [
        {
          "output_type": "stream",
          "name": "stdout",
          "text": [
            "3.605551275463989\n"
          ]
        }
      ]
    },
    {
      "cell_type": "code",
      "source": [
        "r=np.abs(r)\n",
        "print(r)"
      ],
      "metadata": {
        "colab": {
          "base_uri": "https://localhost:8080/"
        },
        "id": "2Oo0EI-tMB3r",
        "outputId": "b43efa42-0c8c-43e1-ebea-716d184ff70a"
      },
      "execution_count": null,
      "outputs": [
        {
          "output_type": "stream",
          "name": "stdout",
          "text": [
            "3.605551275463989\n"
          ]
        }
      ]
    },
    {
      "cell_type": "markdown",
      "source": [
        "Magnitude"
      ],
      "metadata": {
        "id": "IQBT8eUmMjbu"
      }
    },
    {
      "cell_type": "code",
      "source": [
        "r=np.abs(r)\n",
        "t=np.angle(z1)*180/np.pi\n",
        "\n",
        "print(r)\n",
        "print(t)\n"
      ],
      "metadata": {
        "colab": {
          "base_uri": "https://localhost:8080/"
        },
        "id": "oYvfCQYuMlcU",
        "outputId": "e9433672-84be-43a0-cbee-a64f7853eeda"
      },
      "execution_count": null,
      "outputs": [
        {
          "output_type": "stream",
          "name": "stdout",
          "text": [
            "3.605551275463989\n",
            "56.309932474020215\n"
          ]
        }
      ]
    },
    {
      "cell_type": "code",
      "source": [
        "z2=-2+1j\n",
        "r=np.abs(r)\n",
        "t=np.angle(z1)*180/np.pi\n",
        "\n",
        "print(r)\n",
        "print(t)"
      ],
      "metadata": {
        "id": "ooEKupAEM3It"
      },
      "execution_count": null,
      "outputs": []
    },
    {
      "cell_type": "markdown",
      "source": [
        "Conversao de polar para retangular"
      ],
      "metadata": {
        "id": "cyUTzbPeNM7b"
      }
    },
    {
      "cell_type": "code",
      "source": [
        "z5=2*np.exp(1j*np.pi/3)\n",
        "z5"
      ],
      "metadata": {
        "colab": {
          "base_uri": "https://localhost:8080/"
        },
        "id": "WY2UcPWeNQSm",
        "outputId": "cb2a0d87-168a-486a-f033-c4308c430430"
      },
      "execution_count": null,
      "outputs": [
        {
          "output_type": "execute_result",
          "data": {
            "text/plain": [
              "np.complex128(1.0000000000000002+1.7320508075688772j)"
            ]
          },
          "metadata": {},
          "execution_count": 8
        }
      ]
    },
    {
      "cell_type": "markdown",
      "source": [
        "### Conjugado Complexo\n",
        "\n",
        "Notação Polar"
      ],
      "metadata": {
        "id": "nlAkOz1vOAEX"
      }
    },
    {
      "cell_type": "code",
      "source": [
        "z1=3+1j*4\n",
        "z1conj=3+1j*4*(-1)\n",
        "print(z1conj)"
      ],
      "metadata": {
        "colab": {
          "base_uri": "https://localhost:8080/"
        },
        "id": "9AqHOkknOJUN",
        "outputId": "0eea96d1-9b79-4d09-b92e-2acebfb621f4"
      },
      "execution_count": null,
      "outputs": [
        {
          "output_type": "stream",
          "name": "stdout",
          "text": [
            "(3-4j)\n"
          ]
        }
      ]
    },
    {
      "cell_type": "markdown",
      "source": [],
      "metadata": {
        "id": "hR12fOnGPFpO"
      }
    },
    {
      "cell_type": "code",
      "source": [
        "z2=3+1j*4\n",
        "z2conj=np.conj(z2)\n",
        "print(z2conj)"
      ],
      "metadata": {
        "colab": {
          "base_uri": "https://localhost:8080/"
        },
        "id": "hPq_sIYiOdyA",
        "outputId": "7e3626df-f152-44e0-bede-9d28be7c67c9"
      },
      "execution_count": null,
      "outputs": [
        {
          "output_type": "stream",
          "name": "stdout",
          "text": [
            "(3-4j)\n"
          ]
        }
      ]
    },
    {
      "cell_type": "code",
      "source": [
        "z2=3*np.exp(-1j*np.pi/4)\n",
        "print(z2)"
      ],
      "metadata": {
        "colab": {
          "base_uri": "https://localhost:8080/"
        },
        "id": "3R6TomkhPJrS",
        "outputId": "89e3a1d1-577f-4328-fbb7-edfd0eb20c6d"
      },
      "execution_count": null,
      "outputs": [
        {
          "output_type": "stream",
          "name": "stdout",
          "text": [
            "(2.121320343559643-2.1213203435596424j)\n"
          ]
        }
      ]
    }
  ]
}
